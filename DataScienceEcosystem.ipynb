{
  "metadata": {
    "kernelspec": {
      "name": "python",
      "display_name": "Python (Pyodide)",
      "language": "python"
    },
    "language_info": {
      "codemirror_mode": {
        "name": "python",
        "version": 3
      },
      "file_extension": ".py",
      "mimetype": "text/x-python",
      "name": "python",
      "nbconvert_exporter": "python",
      "pygments_lexer": "ipython3",
      "version": "3.8"
    }
  },
  "nbformat_minor": 5,
  "nbformat": 4,
  "cells": [
    {
      "id": "afa046c5-5de2-4af9-91f2-d8d396864169",
      "cell_type": "markdown",
      "source": "# Data Science Tools and Ecosystem",
      "metadata": {}
    },
    {
      "id": "6cd735ce-1d44-4fd3-ac44-efd092100ea1",
      "cell_type": "markdown",
      "source": "In this notebook, Data Science Tools and Ecosystem are summarized.",
      "metadata": {}
    },
    {
      "id": "48017364-ad97-463c-8216-0a3f4a49cf1f",
      "cell_type": "markdown",
      "source": "Some of the popular languages that Data Scientists use are:\n1. Python\n2. R\n3. Julia\n4. Scala",
      "metadata": {}
    },
    {
      "id": "b0cbc262-f2d5-401d-93c7-31df424c95e4",
      "cell_type": "markdown",
      "source": "| Data Science Tools |\n| ------------------ |\n| Jupyter Notebooks  |\n| RStudio            |\n| VS Code            |\n",
      "metadata": {}
    },
    {
      "id": "1bad2584-857a-4fd3-abc0-291325ab2c52",
      "cell_type": "markdown",
      "source": "### Below are a few examples of evaluating arithmetic expressions in Python.",
      "metadata": {}
    },
    {
      "id": "8439d852-fd68-447b-8aaa-f482eb86a369",
      "cell_type": "code",
      "source": "# This a simple arithmetic expression to mutiply then add integers.\n(3*4)+5",
      "metadata": {
        "trusted": true
      },
      "outputs": [],
      "execution_count": null
    },
    {
      "id": "7ca99cee-e25c-4777-b871-6625709ab7b4",
      "cell_type": "code",
      "source": "# This will convert 200 minutes to hours by diving by 60.\n200 / 60",
      "metadata": {
        "trusted": true
      },
      "outputs": [],
      "execution_count": null
    },
    {
      "id": "40ae5ebf-9fcf-48fe-a32d-32236bb12c9c",
      "cell_type": "markdown",
      "source": "**Objectives:**\n* List popular languages for Data Science\n* List commonly used libraries for Data Science\n* Introduce Data Science Tools\n* Demonstrate arithmetic expression examples",
      "metadata": {}
    },
    {
      "id": "22bbfbd0-0f90-428c-bcd8-5372f3c9ede7",
      "cell_type": "code",
      "source": "## Author\nRupa Sri Harindra Reddy Sathi",
      "metadata": {
        "trusted": true
      },
      "outputs": [],
      "execution_count": null
    }
  ]
}